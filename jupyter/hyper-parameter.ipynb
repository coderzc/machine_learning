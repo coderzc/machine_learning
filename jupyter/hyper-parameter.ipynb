{
 "cells": [
  {
   "cell_type": "markdown",
   "metadata": {},
   "source": [
    "## 超参数"
   ]
  },
  {
   "cell_type": "markdown",
   "metadata": {},
   "source": [
    "超参数和模型参数\n",
    "* 超参数：在算法运行前需要决定的参数\n",
    "* 模型参数：算法过程中学习的参数"
   ]
  },
  {
   "cell_type": "code",
   "execution_count": 1,
   "metadata": {},
   "outputs": [],
   "source": [
    "from sklearn import datasets\n",
    "from sklearn.neighbors import KNeighborsClassifier\n",
    "from sklearn.model_selection import train_test_split"
   ]
  },
  {
   "cell_type": "code",
   "execution_count": 2,
   "metadata": {},
   "outputs": [],
   "source": [
    "digits=datasets.load_digits()\n",
    "x=digits.data\n",
    "y=digits.target"
   ]
  },
  {
   "cell_type": "code",
   "execution_count": 3,
   "metadata": {},
   "outputs": [],
   "source": [
    "x_train,x_test,y_train,y_test=train_test_split(x,y,test_size=0.2,random_state=666)"
   ]
  },
  {
   "cell_type": "code",
   "execution_count": 4,
   "metadata": {},
   "outputs": [
    {
     "data": {
      "text/plain": [
       "0.9888888888888889"
      ]
     },
     "execution_count": 4,
     "metadata": {},
     "output_type": "execute_result"
    }
   ],
   "source": [
    "knn_clf=KNeighborsClassifier(n_neighbors=3)\n",
    "knn_clf.fit(x_train,y_train)\n",
    "knn_clf.score(x_test,y_test)"
   ]
  },
  {
   "cell_type": "markdown",
   "metadata": {},
   "source": [
    "## 寻找最好的K (进行多次实验找最好的k)"
   ]
  },
  {
   "cell_type": "code",
   "execution_count": 5,
   "metadata": {},
   "outputs": [
    {
     "name": "stdout",
     "output_type": "stream",
     "text": [
      "best_k: 4\n",
      "best_score: 0.9916666666666667\n"
     ]
    }
   ],
   "source": [
    "best_k=0\n",
    "best_score=0.0\n",
    "for k in range(1,11):\n",
    "    knn_clf = KNeighborsClassifier(n_neighbors=k)\n",
    "    knn_clf.fit(x_train,y_train)\n",
    "    score = knn_clf.score(x_test,y_test)\n",
    "    if score>best_score:\n",
    "        best_k=k\n",
    "        best_score=score\n",
    "print(\"best_k:\",best_k)\n",
    "print(\"best_score:\",best_score)"
   ]
  },
  {
   "cell_type": "markdown",
   "metadata": {},
   "source": [
    "## 考虑距离权重 (不是最近的k个元素都有相同的投票权重)"
   ]
  },
  {
   "cell_type": "code",
   "execution_count": 6,
   "metadata": {},
   "outputs": [
    {
     "name": "stdout",
     "output_type": "stream",
     "text": [
      "best_k: 4\n",
      "best_method: uniform\n",
      "best_score: 0.9916666666666667\n"
     ]
    }
   ],
   "source": [
    "best_k=0\n",
    "best_score=0.0\n",
    "best_method=\"\"\n",
    "for method in [\"uniform\",\"distance\"]:\n",
    "    for k in range(1,11):\n",
    "        knn_clf = KNeighborsClassifier(n_neighbors=k,weights=method)\n",
    "        knn_clf.fit(x_train,y_train)\n",
    "        score = knn_clf.score(x_test,y_test)\n",
    "        if score>best_score:\n",
    "            best_k=k\n",
    "            best_method=method\n",
    "            best_score=score\n",
    "print(\"best_k:\",best_k)\n",
    "print(\"best_method:\",best_method)\n",
    "print(\"best_score:\",best_score)"
   ]
  },
  {
   "cell_type": "markdown",
   "metadata": {},
   "source": [
    "## 欧拉距离、曼哈顿距离、明可夫斯基距离"
   ]
  },
  {
   "cell_type": "markdown",
   "metadata": {},
   "source": [
    "欧拉距离:$\\sqrt {\\sum ^{n}_{i=1}\\left( x_{ai}-x_{bi}\\right) }$ (当 p=2)\n",
    "\n",
    "曼哈顿距离:$\\sum ^{n}_{i=1}\\left| x_{ai}-x_{bi}\\right|$ (当 p=1)\n",
    "\n",
    "明可夫斯基距离：$ \\left( \\sum ^{n}_{i=1}\\left| x_{ai}-x_{bi}\\right| ^{p}\\right) ^{\\dfrac {1}{p}} $"
   ]
  },
  {
   "cell_type": "code",
   "execution_count": 7,
   "metadata": {},
   "outputs": [
    {
     "name": "stdout",
     "output_type": "stream",
     "text": [
      "best_k: 5\n",
      "best_p: 1\n",
      "best_score: 0.9888888888888889\n"
     ]
    }
   ],
   "source": [
    "best_k=0\n",
    "best_score=0.0\n",
    "best_p=0\n",
    "for p in range(1,6):\n",
    "    for k in range(1,11):\n",
    "        knn_clf = KNeighborsClassifier(n_neighbors=k,weights=\"distance\",p=p)\n",
    "        knn_clf.fit(x_train,y_train)\n",
    "        score = knn_clf.score(x_test,y_test)\n",
    "        if score>best_score:\n",
    "            best_k=k\n",
    "            best_p=p\n",
    "            best_score=score\n",
    "print(\"best_k:\",best_k)\n",
    "print(\"best_p:\",best_p)\n",
    "print(\"best_score:\",best_score)"
   ]
  },
  {
   "cell_type": "code",
   "execution_count": null,
   "metadata": {},
   "outputs": [],
   "source": []
  }
 ],
 "metadata": {
  "kernelspec": {
   "display_name": "Python 3",
   "language": "python",
   "name": "python3"
  },
  "language_info": {
   "codemirror_mode": {
    "name": "ipython",
    "version": 3
   },
   "file_extension": ".py",
   "mimetype": "text/x-python",
   "name": "python",
   "nbconvert_exporter": "python",
   "pygments_lexer": "ipython3",
   "version": "3.6.7"
  }
 },
 "nbformat": 4,
 "nbformat_minor": 2
}
