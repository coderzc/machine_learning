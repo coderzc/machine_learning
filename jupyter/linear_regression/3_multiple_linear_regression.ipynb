{
 "cells": [
  {
   "cell_type": "markdown",
   "metadata": {},
   "source": [
    "### 多元线性回归"
   ]
  },
  {
   "cell_type": "markdown",
   "metadata": {},
   "source": [
    "需要拟合的目标方程：$ y=w_{1}x_{1}+w_{2}x_{2}+\\ldots +w_{n}x_{n}+b $\n",
    "\n",
    "<br/>\n",
    "\n",
    "则对于我们每一个有n纬特征的特征向量 $(x^{\\left( i\\right) }_{1},x^{\\left( i\\right) }_{2},x^{\\left( i\\right) }_{3},\\ldots ,x^{\\left( i\\right) }_{n})$，根据我们的目标方程，预测值为:\n",
    "\n",
    "\n",
    "$\\widehat {y}_{i}=w_{1}x^{\\left( i\\right) }_{1}+w_{2}x^{\\left( i\\right) }_{2}+w_{3}x^{\\left( i\\right) }_{3}+\\ldots+w_{n}x^{\\left( i\\right) }_{n}+b$，真值为：$y_{i}$\n",
    "\n",
    "<br/>\n",
    "\n",
    "目标：使 $ \\sum ^{m}_{i=1}\\left( y_{i}-\\widehat {y}_{i}\\right) ^{2} $ 尽可能能小\n",
    "\n",
    "$ w=\\left( w_{1},w_{2},w_{3},\\ldots ,w_{n}\\right) $ ==>\n",
    "$ W=\\left( w,b\\right)^{T}=\\left( w_{1};w_{2};w_{3};\\ldots ;w_{n};b\\right) $  \n",
    "\n",
    "\n",
    "$ x_{i}=\\left( x^{\\left( i\\right) }_{1},x^{\\left( i\\right) }_{2},x^{\\left( i\\right) }_{3},\\ldots ,x^{\\left( i\\right) }_{n}\\right) $ ==>\n",
    "$ X_{i}=\\left( x_{i},1\\right) $\n",
    "\n",
    "`; 代表列向量，np向量默认就是列向量，而我们是把其实元素w和xi看成是行向量`\n",
    "\n",
    "$ \\widehat {y}_{i}=X_{i}\\cdot W $\n",
    "\n",
    "所以有：$ \\sum ^{m}_{i=1}\\left( y_{i}-\\widehat {y}_{i}\\right) ^{2} = \\sum ^{m}_{i=1}\\left( y_{i}-X_{i}\\cdot W\\right) ^{2}$\n",
    "\n",
    "再扩展到m组数据：$ \\sum ^{m}_{i=1}\\left( y_{i}-\\widehat {y}_{i}\\right) ^{2} = \\left( y-X\\cdot W\\right)^{T} \\cdot \\left( y-X\\cdot W\\right) $\n",
    "\n",
    "然后对矩阵求导可得出当使上面的损失函数最小时的 W：$ W=\\left( X^{T}X\\right) ^{-1}X^{T}y $\n",
    "\n",
    "<img src=\"../img/1.png\" width=\"500\" align=\"left\"/>"
   ]
  },
  {
   "cell_type": "code",
   "execution_count": 1,
   "metadata": {},
   "outputs": [],
   "source": [
    "import numpy as np\n",
    "from sklearn import datasets\n",
    "from sklearn.model_selection import train_test_split"
   ]
  },
  {
   "cell_type": "code",
   "execution_count": 2,
   "metadata": {},
   "outputs": [],
   "source": [
    "boston = datasets.load_boston()\n",
    "x=boston.data\n",
    "y=boston.target\n",
    "\n",
    "x=x[y<50]\n",
    "y=y[y<50]\n",
    "\n",
    "X_train,X_test,y_train,y_test = train_test_split(x,y,test_size=0.2,random_state=666)"
   ]
  },
  {
   "cell_type": "markdown",
   "metadata": {},
   "source": [
    "### 实现一个线性回归器"
   ]
  },
  {
   "cell_type": "code",
   "execution_count": 3,
   "metadata": {},
   "outputs": [],
   "source": [
    "class LinearRegression:\n",
    "    def __init__(self):\n",
    "        self.W_=None\n",
    "        self.w_=None\n",
    "        self.b_=None\n",
    "\n",
    "    def fit_normal(self,X_train,y_train):\n",
    "        X_b = np.hstack([X_train,np.ones((len(X_train),1))])\n",
    "        W = np.linalg.inv(X_b.T.dot(X_b)).dot(X_b.T).dot(y_train)\n",
    "\n",
    "        self.W_ = W\n",
    "        self.b_ = W[-1]\n",
    "        self.w_ = W[:-1]\n",
    "        return self\n",
    "\n",
    "    def predict_normal(self,X_test):\n",
    "        X_b = np.hstack([X_test,np.ones((len(X_test),1))])\n",
    "        y_hat = X_b.dot(self.W_)\n",
    "        return y_hat\n",
    "    \n",
    "    def __repr__(self):\n",
    "        return \"LinearRegression()\""
   ]
  },
  {
   "cell_type": "code",
   "execution_count": 4,
   "metadata": {},
   "outputs": [
    {
     "data": {
      "text/plain": [
       "LinearRegression()"
      ]
     },
     "execution_count": 4,
     "metadata": {},
     "output_type": "execute_result"
    },
    {
     "data": {
      "text/plain": [
       "array([-1.20354261e-01,  3.64423279e-02, -3.61493155e-02,  5.12978140e-02,\n",
       "       -1.15775825e+01,  3.42740062e+00, -2.32311760e-02, -1.19487594e+00,\n",
       "        2.60101728e-01, -1.40219119e-02, -8.35430488e-01,  7.80472852e-03,\n",
       "       -3.80923751e-01])"
      ]
     },
     "execution_count": 4,
     "metadata": {},
     "output_type": "execute_result"
    },
    {
     "data": {
      "text/plain": [
       "34.11739972324508"
      ]
     },
     "execution_count": 4,
     "metadata": {},
     "output_type": "execute_result"
    }
   ],
   "source": [
    "reg = LinearRegression()\n",
    "reg.fit_normal(X_train,y_train)\n",
    "y_pred = reg.predict_normal(X_test)\n",
    "reg.w_\n",
    "reg.b_"
   ]
  },
  {
   "cell_type": "code",
   "execution_count": 5,
   "metadata": {},
   "outputs": [],
   "source": [
    "from sklearn.metrics import r2_score"
   ]
  },
  {
   "cell_type": "code",
   "execution_count": 6,
   "metadata": {},
   "outputs": [
    {
     "data": {
      "text/plain": [
       "0.8129794056212705"
      ]
     },
     "execution_count": 6,
     "metadata": {},
     "output_type": "execute_result"
    }
   ],
   "source": [
    "r2_score(y_test,y_pred)"
   ]
  },
  {
   "cell_type": "markdown",
   "metadata": {},
   "source": [
    "### scikit-learn中的线性回归"
   ]
  },
  {
   "cell_type": "code",
   "execution_count": 7,
   "metadata": {},
   "outputs": [],
   "source": [
    "from sklearn.linear_model import LinearRegression"
   ]
  },
  {
   "cell_type": "code",
   "execution_count": 8,
   "metadata": {},
   "outputs": [],
   "source": [
    "skreg = LinearRegression()"
   ]
  },
  {
   "cell_type": "code",
   "execution_count": 9,
   "metadata": {},
   "outputs": [
    {
     "data": {
      "text/plain": [
       "LinearRegression(copy_X=True, fit_intercept=True, n_jobs=None,\n",
       "         normalize=False)"
      ]
     },
     "execution_count": 9,
     "metadata": {},
     "output_type": "execute_result"
    },
    {
     "data": {
      "text/plain": [
       "array([18.08015868, 25.52447165, 12.98271397, 32.89477638, 24.17839745,\n",
       "        2.66600125, 26.64297716, 32.23866352, 13.96590659, 24.0465123 ,\n",
       "       14.92963   , 10.57419644, 30.28539981, 16.28302365, 23.67843428,\n",
       "       25.63288299, 18.68105783, 24.01767076, 28.77234863, 26.9404495 ,\n",
       "       12.87158142, 27.23259283, 26.07726096, 23.41270932, 20.80570812,\n",
       "       31.96527196, 14.93177657, 20.94927605, 12.93149157, 29.8004438 ,\n",
       "       35.29188752,  4.99369317, 13.10904465, 35.54982047, 16.00603155,\n",
       "       21.53889058, 12.46701001, 29.12202629, 27.3433202 , 24.04852968,\n",
       "       14.39961539, 23.61075774, 10.89223868, 22.38043687, 18.62604579,\n",
       "       16.41773634, 24.43040765, 33.06929581, 19.19757395, 27.03634216,\n",
       "       18.05693565, 14.90744724, 25.08683225, 16.09610653, 21.7469388 ,\n",
       "       16.32259928, 24.25418684, 11.75290906, 27.91347808, 31.06610342,\n",
       "       20.17028271, 24.99229322, 25.99180978, 12.11816691, 16.57739596,\n",
       "       27.30354042, 22.26700274, 21.72088347, 31.5072238 , 14.09365929,\n",
       "       16.44848578, 24.77021704, 25.18029077, 18.6594919 , 17.38685904,\n",
       "       27.90685345, 23.71361804, 14.64035157, 11.221733  , 31.41732583,\n",
       "       33.66657215, 17.6664705 , 18.70612914, 17.80521513, 25.15854544,\n",
       "       23.66222167, 24.54963451, 26.08785332, 25.49668464, 20.29468282,\n",
       "       24.87604237, 33.48153061, 36.08260332, 23.07153729, 18.79940271,\n",
       "       31.04317235, 35.78693515, 20.85083183])"
      ]
     },
     "execution_count": 9,
     "metadata": {},
     "output_type": "execute_result"
    }
   ],
   "source": [
    "skreg.fit(X_train,y_train)\n",
    "skreg.predict(X_test)"
   ]
  },
  {
   "cell_type": "code",
   "execution_count": 10,
   "metadata": {},
   "outputs": [
    {
     "data": {
      "text/plain": [
       "34.117399723229845"
      ]
     },
     "execution_count": 10,
     "metadata": {},
     "output_type": "execute_result"
    },
    {
     "data": {
      "text/plain": [
       "array([-1.20354261e-01,  3.64423279e-02, -3.61493155e-02,  5.12978140e-02,\n",
       "       -1.15775825e+01,  3.42740062e+00, -2.32311760e-02, -1.19487594e+00,\n",
       "        2.60101728e-01, -1.40219119e-02, -8.35430488e-01,  7.80472852e-03,\n",
       "       -3.80923751e-01])"
      ]
     },
     "execution_count": 10,
     "metadata": {},
     "output_type": "execute_result"
    }
   ],
   "source": [
    "# 截距b\n",
    "skreg.intercept_\n",
    "\n",
    "# 系数w\n",
    "skreg.coef_"
   ]
  },
  {
   "cell_type": "code",
   "execution_count": 11,
   "metadata": {},
   "outputs": [
    {
     "data": {
      "text/plain": [
       "0.8129794056212809"
      ]
     },
     "execution_count": 11,
     "metadata": {},
     "output_type": "execute_result"
    }
   ],
   "source": [
    "skreg.score(X_test,y_test)"
   ]
  },
  {
   "cell_type": "markdown",
   "metadata": {},
   "source": [
    "### 使用KNN解决回归问题"
   ]
  },
  {
   "cell_type": "code",
   "execution_count": 13,
   "metadata": {},
   "outputs": [
    {
     "data": {
      "text/plain": [
       "KNeighborsRegressor(algorithm='auto', leaf_size=30, metric='minkowski',\n",
       "          metric_params=None, n_jobs=None, n_neighbors=5, p=2,\n",
       "          weights='uniform')"
      ]
     },
     "execution_count": 13,
     "metadata": {},
     "output_type": "execute_result"
    },
    {
     "data": {
      "text/plain": [
       "0.5865412198300899"
      ]
     },
     "execution_count": 13,
     "metadata": {},
     "output_type": "execute_result"
    }
   ],
   "source": [
    "from sklearn.neighbors import KNeighborsRegressor\n",
    "\n",
    "knn_reg = KNeighborsRegressor()\n",
    "knn_reg.fit(X_train,y_train)\n",
    "knn_reg.score(X_test,y_test)"
   ]
  },
  {
   "cell_type": "code",
   "execution_count": null,
   "metadata": {},
   "outputs": [],
   "source": []
  }
 ],
 "metadata": {
  "kernelspec": {
   "display_name": "Python 3",
   "language": "python",
   "name": "python3"
  },
  "language_info": {
   "codemirror_mode": {
    "name": "ipython",
    "version": 3
   },
   "file_extension": ".py",
   "mimetype": "text/x-python",
   "name": "python",
   "nbconvert_exporter": "python",
   "pygments_lexer": "ipython3",
   "version": "3.6.7"
  }
 },
 "nbformat": 4,
 "nbformat_minor": 2
}
