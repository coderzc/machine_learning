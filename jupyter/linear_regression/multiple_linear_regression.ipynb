{
 "cells": [
  {
   "cell_type": "markdown",
   "metadata": {},
   "source": [
    "### 多元线性回归"
   ]
  },
  {
   "cell_type": "markdown",
   "metadata": {},
   "source": [
    "需要拟合的目标方程：$ y=w_{1}x_{1}+w_{2}x_{2}+\\ldots +w_{n}x_{n}+b $\n",
    "\n",
    "<br/>\n",
    "\n",
    "则对于我们每一个有n纬特征的特征向量 $(x^{\\left( i\\right) }_{1},x^{\\left( i\\right) }_{2},x^{\\left( i\\right) }_{3},\\ldots ,x^{\\left( i\\right) }_{n})$，根据我们的目标方程，预测值为:\n",
    "\n",
    "\n",
    "$\\widehat {y}_{i}=w_{1}x^{\\left( i\\right) }_{1}+w_{2}x^{\\left( i\\right) }_{2}+w_{3}x^{\\left( i\\right) }_{3}+\\ldots+w_{n}x^{\\left( i\\right) }_{n}+b$，真值为：$y_{i}$\n",
    "\n",
    "<br/>\n",
    "\n",
    "目标：使 $ \\sum ^{m}_{i=1}\\left( y_{i}-\\widehat {y}_{i}\\right) ^{2} $ 尽可能能小\n",
    "\n",
    "$ w=\\left( w_{1},w_{2},w_{3},\\ldots ,w_{n}\\right) $ ==>\n",
    "$ W=\\left( w,b\\right) $\n",
    "\n",
    "$ x_{i}=\\left( x^{\\left( i\\right) }_{1},x^{\\left( i\\right) }_{2},x^{\\left( i\\right) }_{3},\\ldots ,x^{\\left( i\\right) }_{n}\\right) $ ==>\n",
    "$ X_{i}=\\left( x_{i},1\\right) $\n",
    "\n",
    "\n",
    "$ \\widehat {y}_{i}=X_{i}\\cdot W^{T} $\n",
    "\n",
    "所以有：$ \\sum ^{m}_{i=1}\\left( y_{i}-\\widehat {y}_{i}\\right) ^{2} = \\sum ^{m}_{i=1}\\left( y_{i}-X_{i}\\cdot W^{T}\\right) ^{2}$\n",
    "\n",
    "再扩展到m组数据：$ \\sum ^{m}_{i=1}\\left( y_{i}-\\widehat {y}_{i}\\right) ^{2} = \\left( y-X\\cdot W^{T}\\right)^{T} \\cdot \\left( y-X\\cdot W^{T}\\right) $\n",
    "\n",
    "然后对矩阵求导可得出当使上面的损失函数最小时的 W：$ W=\\left( X^{T}X\\right) ^{-1}X^{T}y $\n",
    "\n",
    "<img src=\"../img/1.png\" width=\"500\" align=\"left\"/>"
   ]
  },
  {
   "cell_type": "code",
   "execution_count": null,
   "metadata": {},
   "outputs": [],
   "source": []
  }
 ],
 "metadata": {
  "kernelspec": {
   "display_name": "Python 3",
   "language": "python",
   "name": "python3"
  },
  "language_info": {
   "codemirror_mode": {
    "name": "ipython",
    "version": 3
   },
   "file_extension": ".py",
   "mimetype": "text/x-python",
   "name": "python",
   "nbconvert_exporter": "python",
   "pygments_lexer": "ipython3",
   "version": "3.6.7"
  }
 },
 "nbformat": 4,
 "nbformat_minor": 2
}
