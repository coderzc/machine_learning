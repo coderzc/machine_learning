{
 "cells": [
  {
   "cell_type": "markdown",
   "metadata": {},
   "source": [
    "### 多元线性回归"
   ]
  },
  {
   "cell_type": "markdown",
   "metadata": {},
   "source": [
    "需要拟合的目标方程：$ y=w_{1}x_{1}+w_{2}x_{2}+\\ldots +w_{n}x_{n}+b $\n",
    "\n",
    "<br/>\n",
    "\n",
    "则对于我们每一个有n纬特征的特征向量 $(x^{\\left( i\\right) }_{1},x^{\\left( i\\right) }_{2},x^{\\left( i\\right) }_{3},\\ldots ,x^{\\left( i\\right) }_{n})$，根据我们的目标方程，预测值为:\n",
    "\n",
    "\n",
    "$\\widehat {y}_{i}=w_{1}x^{\\left( i\\right) }_{1}+w_{2}x^{\\left( i\\right) }_{2}+w_{3}x^{\\left( i\\right) }_{3}+\\ldots+w_{n}x^{\\left( i\\right) }_{n}+b$，真值为：$y_{i}$\n",
    "\n",
    "<br/>\n",
    "\n",
    "目标：使 $ \\sum ^{m}_{i=1}\\left( y_{i}-\\widehat {y}_{i}\\right) ^{2} $ 尽可能能小\n",
    "\n",
    "$ w=\\left( w_{1},w_{2},w_{3},\\ldots ,w_{n},b\\right) ^{T} $\n",
    "\n",
    "$ x_{i}=\\left( x^{\\left( i\\right) }_{1},x^{\\left( i\\right) }_{2},x^{\\left( i\\right) }_{3},\\ldots ,x^{\\left( i\\right) }_{n},1\\right) $"
   ]
  },
  {
   "cell_type": "code",
   "execution_count": null,
   "metadata": {},
   "outputs": [],
   "source": []
  }
 ],
 "metadata": {
  "kernelspec": {
   "display_name": "Python 3",
   "language": "python",
   "name": "python3"
  },
  "language_info": {
   "codemirror_mode": {
    "name": "ipython",
    "version": 3
   },
   "file_extension": ".py",
   "mimetype": "text/x-python",
   "name": "python",
   "nbconvert_exporter": "python",
   "pygments_lexer": "ipython3",
   "version": "3.6.7"
  }
 },
 "nbformat": 4,
 "nbformat_minor": 2
}
