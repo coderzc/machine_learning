{
 "cells": [
  {
   "cell_type": "markdown",
   "metadata": {},
   "source": [
    "### 使用Tensflow实现梯度下降"
   ]
  },
  {
   "cell_type": "code",
   "execution_count": 1,
   "metadata": {},
   "outputs": [],
   "source": [
    "import tensorflow as tf\n",
    "import numpy as np\n",
    "import matplotlib.pyplot as plt"
   ]
  },
  {
   "cell_type": "code",
   "execution_count": 2,
   "metadata": {},
   "outputs": [],
   "source": [
    "x_data = np.linspace(-10., 10., 1000, endpoint = False)\n",
    "y_data = 3. * x_data + 4. + np.random.normal(size=len(x_data))\n",
    "\n",
    "# 打乱顺序\n",
    "x_indexs = np.random.permutation(len(x_data))\n",
    "x_data = x_data[x_indexs]\n",
    "y_data = y_data[x_indexs]\n",
    "\n",
    "LR = 0.01 #学习率 \n",
    "n_iters = 1000 #训练次数"
   ]
  },
  {
   "cell_type": "code",
   "execution_count": 3,
   "metadata": {},
   "outputs": [
    {
     "name": "stdout",
     "output_type": "stream",
     "text": [
      "WARNING:tensorflow:From /Users/zc/anaconda3/envs/ztt2019/lib/python3.6/site-packages/tensorflow/python/framework/op_def_library.py:263: colocate_with (from tensorflow.python.framework.ops) is deprecated and will be removed in a future version.\n",
      "Instructions for updating:\n",
      "Colocations handled automatically by placer.\n",
      "WARNING:tensorflow:From /Users/zc/anaconda3/envs/ztt2019/lib/python3.6/site-packages/tensorflow/python/ops/math_ops.py:3066: to_int32 (from tensorflow.python.ops.math_ops) is deprecated and will be removed in a future version.\n",
      "Instructions for updating:\n",
      "Use tf.cast instead.\n"
     ]
    },
    {
     "data": {
      "image/png": "[encoded data removed]",
      "text/plain": [
       "<matplotlib.figure.Figure at 0x12db2c5c0>"
      ]
     },
     "metadata": {
      "needs_background": "light"
     },
     "output_type": "display_data"
    },
    {
     "name": "stdout",
     "output_type": "stream",
     "text": [
      "Predicted model: [3.0018747]x + [4.0551367]\n",
      "CPU times: user 1.02 s, sys: 127 ms, total: 1.14 s\n",
      "Wall time: 668 ms\n"
     ]
    }
   ],
   "source": [
    "%%time\n",
    "\n",
    "# x 和 y 是我们的训练数据的占位符\n",
    "x = tf.placeholder(\"float\")\n",
    "y = tf.placeholder(\"float\")\n",
    "\n",
    "# w 是存储我们的值的变量。 它使用“猜测”来初始化\n",
    "w = tf.Variable([0.], name=\"w\")\n",
    "b = tf.Variable([0.],name=\"b\")\n",
    "\n",
    "# 我们的模型是 y = w * x + b\n",
    "y_model = w * x + b\n",
    "\n",
    "# 我们的误差定义为均方误差\n",
    "loss = tf.reduce_mean(tf.square(y - y_model))\n",
    "\n",
    "# GradientDescentOptimizer 完成繁重的工作\n",
    "optimizer = tf.train.GradientDescentOptimizer(LR)\n",
    "train_op = optimizer.minimize(loss)\n",
    "\n",
    "with tf.Session() as session:\n",
    "    # TensorFlow 常规 - 初始化值，创建会话并运行模型\n",
    "    tf.global_variables_initializer().run()\n",
    "    \n",
    "    for i in range(n_iters):\n",
    "        x_value = x_data\n",
    "        y_value = y_data\n",
    "#         x_value = x_data[i]\n",
    "#         y_value = y_data[i]\n",
    "        train_,w_,b_,loss_ = session.run([train_op,w,b,loss], feed_dict={x: x_value, y: y_value})\n",
    "#         print(\"step:{i},loss:{loss_},w:{w_},b:{b_}\".format(**locals()))  #训练过程\n",
    "    \n",
    "    plt.scatter(x_data,y_data,s=2)\n",
    "    plt.plot(x_data, w_ * x_data + b_, color='red', linewidth=2.0, linestyle='--')\n",
    "    plt.show()\n",
    "    \n",
    "    print(\"Predicted model: {a}x + {b}\".format(a=w_, b=b_))"
   ]
  },
  {
   "cell_type": "markdown",
   "metadata": {},
   "source": [
    "### 多元梯度下降"
   ]
  },
  {
   "cell_type": "code",
   "execution_count": 6,
   "metadata": {},
   "outputs": [],
   "source": [
    "m=1000\n",
    "n=10\n",
    "np.random.seed(666)\n",
    "X_data = np.random.random(size=(m,n))\n",
    "true_W = np.arange(1,n+1,dtype=float).reshape(-1,1)\n",
    "true_b = 6.\n",
    "y_data = X_data.dot(true_W) + true_b + np.random.normal(size=len(X_data))\n",
    "\n",
    "LR = 0.01 #学习率 \n",
    "n_iters = 1000 #训练次数"
   ]
  },
  {
   "cell_type": "code",
   "execution_count": 7,
   "metadata": {},
   "outputs": [
    {
     "name": "stdout",
     "output_type": "stream",
     "text": [
      "Predicted model: [[1.5000343]\n",
      " [2.1404192]\n",
      " [2.8589902]\n",
      " [3.9957354]\n",
      " [4.817198 ]\n",
      " [5.539033 ]\n",
      " [6.265564 ]\n",
      " [7.065933 ]\n",
      " [8.064317 ]\n",
      " [8.559007 ]]x + [8.1715145]\n",
      "CPU times: user 639 ms, sys: 81.2 ms, total: 720 ms\n",
      "Wall time: 519 ms\n"
     ]
    }
   ],
   "source": [
    "%%time\n",
    "\n",
    "# x 和 y 是我们的训练数据的占位符\n",
    "X = tf.placeholder(\"float\")\n",
    "y = tf.placeholder(\"float\")\n",
    "\n",
    "# w 是存储我们的值的变量。 它使用“猜测”来初始化 ,这里注意shape是(n,1) 而不是 (n,) 因为tf的matmul 参数不能是\n",
    "W = tf.Variable(tf.zeros([n,1],dtype=tf.float32), name=\"w\")\n",
    "b = tf.Variable(tf.zeros(1,dtype=tf.float32),name=\"b\")\n",
    "\n",
    "# 我们的模型是 y = w * x + b\n",
    "y_model = tf.matmul(X,W) + b\n",
    "\n",
    "# 我们的误差定义为均方误差\n",
    "loss = tf.reduce_mean(tf.square(y - y_model))\n",
    "\n",
    "# GradientDescentOptimizer 完成繁重的工作\n",
    "optimizer = tf.train.GradientDescentOptimizer(LR)\n",
    "train_op = optimizer.minimize(loss)\n",
    "\n",
    "with tf.Session() as session:\n",
    "    # TensorFlow 常规 - 初始化值，创建会话并运行模型\n",
    "    tf.global_variables_initializer().run()\n",
    "    \n",
    "    for i in range(n_iters):\n",
    "#         x_value = X_data\n",
    "#         y_value = y_data\n",
    "        x_value = X_data[i].reshape(1,-1)\n",
    "        y_value = y_data[i]\n",
    "        train_,w_,b_,loss_ = session.run([train_op,W,b,loss], feed_dict={X: x_value, y: y_value})\n",
    "#       print(\"step:{i},loss:{loss_},w:{w_},b:{b_}\".format(**locals()))    #训练过程\n",
    "        \n",
    "    print(\"Predicted model: {a}x + {b}\".format(a=w_, b=b_))"
   ]
  },
  {
   "cell_type": "code",
   "execution_count": null,
   "metadata": {},
   "outputs": [],
   "source": []
  }
 ],
 "metadata": {
  "kernelspec": {
   "display_name": "Python 3",
   "language": "python",
   "name": "python3"
  },
  "language_info": {
   "codemirror_mode": {
    "name": "ipython",
    "version": 3
   },
   "file_extension": ".py",
   "mimetype": "text/x-python",
   "name": "python",
   "nbconvert_exporter": "python",
   "pygments_lexer": "ipython3",
   "version": "3.6.2"
  }
 },
 "nbformat": 4,
 "nbformat_minor": 2
}
