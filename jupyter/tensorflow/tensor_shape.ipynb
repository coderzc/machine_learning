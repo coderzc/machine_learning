{
 "cells": [
  {
   "cell_type": "markdown",
   "metadata": {},
   "source": [
    "### Tensor的 shape"
   ]
  },
  {
   "cell_type": "code",
   "execution_count": 1,
   "metadata": {
    "scrolled": true
   },
   "outputs": [
    {
     "name": "stdout",
     "output_type": "stream",
     "text": [
      "WARNING:tensorflow:From /Users/zc/anaconda3/lib/python3.6/site-packages/tensorflow/python/framework/op_def_library.py:263: colocate_with (from tensorflow.python.framework.ops) is deprecated and will be removed in a future version.\n",
      "Instructions for updating:\n",
      "Colocations handled automatically by placer.\n",
      "<class 'tensorflow.python.framework.tensor_shape.TensorShapeV1'>\n",
      "<class 'tensorflow.python.framework.tensor_shape.TensorShapeV1'>\n",
      "<class 'tensorflow.python.framework.ops.Tensor'> \n",
      "\n",
      "[2, 3]\n",
      "[2, 3]\n",
      "Tensor(\"Shape_1:0\", shape=(2,), dtype=int32) \n",
      "\n",
      "<class 'numpy.ndarray'>\n",
      "[2 3]\n"
     ]
    }
   ],
   "source": [
    "import tensorflow as tf\n",
    "\n",
    "input = tf.Variable([[0, 1, 2], [3, 4, 5]])\n",
    "\n",
    "print(type(input.shape))\n",
    "print(type(input.get_shape()))\n",
    "print(type(tf.shape(input)),'\\n')\n",
    "\n",
    "print(input.shape.as_list())\n",
    "print(input.get_shape().as_list())\n",
    "print(tf.shape(input),'\\n')\n",
    "\n",
    "sess = tf.InteractiveSession()\n",
    "shape = sess.run(tf.shape(input))\n",
    "print(type(shape))\n",
    "print(shape)"
   ]
  },
  {
   "cell_type": "markdown",
   "metadata": {},
   "source": [
    "### static shape 与 dynamic shape"
   ]
  },
  {
   "cell_type": "code",
   "execution_count": 2,
   "metadata": {},
   "outputs": [
    {
     "name": "stdout",
     "output_type": "stream",
     "text": [
      "static shape: [None, None, 3]\n",
      "dynamic shape: [50 50  3]\n"
     ]
    }
   ],
   "source": [
    "import numpy as np\n",
    "raw_data = np.random.normal(size=(50,50,3))\n",
    "image = tf.placeholder(\"uint8\", [None,None,3])\n",
    "reult = sess.run(tf.shape(image),feed_dict={image:raw_data})\n",
    "print(\"static shape:\",image.get_shape().as_list())\n",
    "print(\"dynamic shape:\",reult)"
   ]
  },
  {
   "cell_type": "code",
   "execution_count": 3,
   "metadata": {},
   "outputs": [],
   "source": [
    "sess.close()"
   ]
  }
 ],
 "metadata": {
  "kernelspec": {
   "display_name": "Python 3",
   "language": "python",
   "name": "python3"
  },
  "language_info": {
   "codemirror_mode": {
    "name": "ipython",
    "version": 3
   },
   "file_extension": ".py",
   "mimetype": "text/x-python",
   "name": "python",
   "nbconvert_exporter": "python",
   "pygments_lexer": "ipython3",
   "version": "3.6.7"
  }
 },
 "nbformat": 4,
 "nbformat_minor": 2
}
