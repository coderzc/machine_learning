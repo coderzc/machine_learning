{
 "cells": [
  {
   "cell_type": "markdown",
   "metadata": {},
   "source": [
    "## Tensor 基本操作"
   ]
  },
  {
   "cell_type": "code",
   "execution_count": 1,
   "metadata": {},
   "outputs": [],
   "source": [
    "import numpy as np\n",
    "import tensorflow as tf"
   ]
  },
  {
   "cell_type": "markdown",
   "metadata": {},
   "source": [
    "### 1、广播"
   ]
  },
  {
   "cell_type": "code",
   "execution_count": 2,
   "metadata": {},
   "outputs": [
    {
     "name": "stdout",
     "output_type": "stream",
     "text": [
      "[[101 103 105]\n",
      " [104 106 108]]\n"
     ]
    }
   ],
   "source": [
    "a = tf.constant([[1, 2, 3], [4, 5, 6]], name='a')\n",
    "b = tf.constant([100, 101, 102], name='b')\n",
    "add_op = a + b\n",
    "\n",
    "with tf.Session() as session:\n",
    "    print(session.run(add_op))"
   ]
  },
  {
   "cell_type": "code",
   "execution_count": 3,
   "metadata": {},
   "outputs": [
    {
     "name": "stdout",
     "output_type": "stream",
     "text": [
      "[[101 102 103]\n",
      " [105 106 107]]\n"
     ]
    }
   ],
   "source": [
    "a = tf.constant([[1, 2, 3], [4, 5, 6]], name='a')\n",
    "b = tf.constant([[100], [101]], name='b')\n",
    "add_op = a + b\n",
    "\n",
    "with tf.Session() as session:\n",
    "    print(session.run(add_op))"
   ]
  },
  {
   "cell_type": "markdown",
   "metadata": {},
   "source": [
    "### 2、随机函数"
   ]
  },
  {
   "cell_type": "code",
   "execution_count": 4,
   "metadata": {},
   "outputs": [],
   "source": [
    "def run_variable(variable):\n",
    "    with tf.Session() as sess:\n",
    "        tf.global_variables_initializer().run()\n",
    "        return sess.run(variable)"
   ]
  },
  {
   "cell_type": "markdown",
   "metadata": {},
   "source": [
    "#### 均匀分布"
   ]
  },
  {
   "cell_type": "code",
   "execution_count": 5,
   "metadata": {},
   "outputs": [
    {
     "name": "stdout",
     "output_type": "stream",
     "text": [
      "[[0.95227146 0.67740774 0.79531825 0.75578177]\n",
      " [0.4759556  0.6310148  0.18602037 0.11430776]\n",
      " [0.3362218  0.723335   0.21919966 0.8573376 ]\n",
      " [0.82392037 0.59541273 0.00296271 0.24725473]\n",
      " [0.5060741  0.36158872 0.04483843 0.97216606]\n",
      " [0.82838845 0.41458404 0.601666   0.33958685]]\n"
     ]
    }
   ],
   "source": [
    "my_distribution = tf.random_uniform((6, 4), seed=42)\n",
    "uniform = run_variable(my_distribution)\n",
    "print(uniform)"
   ]
  },
  {
   "cell_type": "code",
   "execution_count": 6,
   "metadata": {},
   "outputs": [
    {
     "data": {
      "text/plain": [
       "(array([2., 2., 2., 3., 2., 1., 4., 2., 4., 2.]),\n",
       " array([0.00296271, 0.09988304, 0.19680338, 0.2937237 , 0.39064404,\n",
       "        0.48756438, 0.5844847 , 0.68140507, 0.7783254 , 0.87524575,\n",
       "        0.97216606], dtype=float32),\n",
       " <a list of 10 Patch objects>)"
      ]
     },
     "execution_count": 6,
     "metadata": {},
     "output_type": "execute_result"
    },
    {
     "data": {
      "text/plain": [
       "<Figure size 640x480 with 1 Axes>"
      ]
     },
     "metadata": {},
     "output_type": "display_data"
    }
   ],
   "source": [
    "# 使用直方图可视化数组\n",
    "from matplotlib import pyplot as plt\n",
    "\n",
    "plt.hist(uniform.flatten())\n",
    "plt.show()"
   ]
  },
  {
   "cell_type": "code",
   "execution_count": 7,
   "metadata": {},
   "outputs": [
    {
     "data": {
      "text/plain": [
       "(array([24089., 23822., 23975., 23939., 23937., 24133., 23951., 24179.,\n",
       "        24212., 23763.]),\n",
       " array([2.0265579e-06, 1.0000143e-01, 2.0000084e-01, 3.0000025e-01,\n",
       "        3.9999965e-01, 4.9999905e-01, 5.9999847e-01, 6.9999784e-01,\n",
       "        7.9999727e-01, 8.9999664e-01, 9.9999607e-01], dtype=float32),\n",
       " <a list of 10 Patch objects>)"
      ]
     },
     "execution_count": 7,
     "metadata": {},
     "output_type": "execute_result"
    },
    {
     "data": {
      "image/png": "[encoded data removed]",
      "text/plain": [
       "<Figure size 432x288 with 1 Axes>"
      ]
     },
     "metadata": {
      "needs_background": "light"
     },
     "output_type": "display_data"
    }
   ],
   "source": [
    "# 增大样本后，均匀的效果更明显\n",
    "large_normal = tf.random_uniform((600, 400), seed=42)\n",
    "large_uniform = run_variable(large_normal)\n",
    "\n",
    "plt.hist(large_uniform.flatten())\n",
    "plt.show()"
   ]
  },
  {
   "cell_type": "markdown",
   "metadata": {},
   "source": [
    "#### 正态分布"
   ]
  },
  {
   "cell_type": "code",
   "execution_count": 8,
   "metadata": {},
   "outputs": [
    {
     "data": {
      "text/plain": [
       "(array([   7.,   90.,  508., 1649., 2866., 2755., 1540.,  483.,   92.,\n",
       "          10.]),\n",
       " array([112.63174, 124.22182, 135.81189, 147.40196, 158.99203, 170.58212,\n",
       "        182.1722 , 193.76227, 205.35236, 216.94243, 228.5325 ],\n",
       "       dtype=float32),\n",
       " <a list of 10 Patch objects>)"
      ]
     },
     "execution_count": 8,
     "metadata": {},
     "output_type": "execute_result"
    },
    {
     "data": {
      "image/png": "[encoded data removed]",
      "text/plain": [
       "<Figure size 432x288 with 1 Axes>"
      ]
     },
     "metadata": {
      "needs_background": "light"
     },
     "output_type": "display_data"
    }
   ],
   "source": [
    "distribution = tf.random_normal((10000,), seed=42, mean=170, stddev=15)\n",
    "normal = run_variable(distribution)\n",
    "\n",
    "plt.hist(normal.flatten())\n",
    "plt.show()"
   ]
  },
  {
   "cell_type": "code",
   "execution_count": 9,
   "metadata": {},
   "outputs": [
    {
     "data": {
      "text/plain": [
       "<BarContainer object of 20 artists>"
      ]
     },
     "execution_count": 9,
     "metadata": {},
     "output_type": "execute_result"
    },
    {
     "data": {
      "image/png": "[encoded data removed]",
      "text/plain": [
       "<Figure size 432x288 with 1 Axes>"
      ]
     },
     "metadata": {
      "needs_background": "light"
     },
     "output_type": "display_data"
    }
   ],
   "source": [
    "bins = tf.histogram_fixed_width(normal, (normal.min(), normal.max()), nbins=20)\n",
    "histogram_bins = run_variable(bins)\n",
    "\n",
    "x_values = np.linspace(normal.min(), normal.max(), len(histogram_bins))\n",
    "plt.bar(x_values, histogram_bins,)"
   ]
  },
  {
   "cell_type": "code",
   "execution_count": 10,
   "metadata": {},
   "outputs": [
    {
     "data": {
      "text/plain": [
       "<BarContainer object of 20 artists>"
      ]
     },
     "execution_count": 10,
     "metadata": {},
     "output_type": "execute_result"
    },
    {
     "data": {
      "image/png": "[encoded data removed]",
      "text/plain": [
       "<Figure size 432x288 with 1 Axes>"
      ]
     },
     "metadata": {
      "needs_background": "light"
     },
     "output_type": "display_data"
    }
   ],
   "source": [
    "bar_width = (normal.max() - normal.min()) / len(histogram_bins)\n",
    "plt.bar(x_values, histogram_bins, width=bar_width)"
   ]
  },
  {
   "cell_type": "markdown",
   "metadata": {},
   "source": [
    "### 3、线性方程"
   ]
  },
  {
   "cell_type": "code",
   "execution_count": 11,
   "metadata": {},
   "outputs": [],
   "source": [
    "# 点 1\n",
    "x1 = tf.constant(2, dtype=tf.float32)\n",
    "y1 = tf.constant(9, dtype=tf.float32)\n",
    "point1 = tf.stack([x1, y1])\n",
    "\n",
    "# 点 2\n",
    "x2 = tf.constant(-1, dtype=tf.float32)\n",
    "y2 = tf.constant(3, dtype=tf.float32)\n",
    "point2 = tf.stack([x2, y2])\n",
    "\n",
    "# 将点组合为数组 [[2,9],[-1,3]]\n",
    "X = tf.transpose(tf.stack([point1, point2]))"
   ]
  },
  {
   "cell_type": "code",
   "execution_count": 12,
   "metadata": {},
   "outputs": [
    {
     "name": "stdout",
     "output_type": "stream",
     "text": [
      "[[-0.39999998  0.19999999]]\n"
     ]
    }
   ],
   "source": [
    "B = tf.ones((1, 2), dtype=tf.float32)\n",
    "\n",
    "parameters = tf.matmul(B, tf.matrix_inverse(X))\n",
    "\n",
    "with tf.Session() as session:\n",
    "    A = session.run(parameters)\n",
    "    print(A)"
   ]
  },
  {
   "cell_type": "code",
   "execution_count": 13,
   "metadata": {},
   "outputs": [
    {
     "name": "stdout",
     "output_type": "stream",
     "text": [
      "Equation: y = 2.0x + 5.000000298023242\n"
     ]
    }
   ],
   "source": [
    "b = 1 / A[0][1]\n",
    "a = -b * A[0][0]\n",
    "print(\"Equation: y = {a}x + {b}\".format(a=a, b=b))"
   ]
  },
  {
   "cell_type": "code",
   "execution_count": 16,
   "metadata": {},
   "outputs": [
    {
     "name": "stdout",
     "output_type": "stream",
     "text": [
      "Equation: x**2 + y**2 + -2.0x + -6.0y + 5.0 = 0\n"
     ]
    }
   ],
   "source": [
    "# 使用tf.matrix_solve\n",
    "points = tf.constant([[2, 1],\n",
    "                 [0, 5],\n",
    "                 [-1, 2]], dtype=tf.float32)\n",
    "\n",
    "A = tf.constant([\n",
    "    [2, 1, 1],\n",
    "    [0, 5, 1],\n",
    "    [-1, 2, 1]\n",
    "], dtype=tf.float32)\n",
    "\n",
    "B = -tf.constant([[5.], [25.], [5.]])\n",
    "\n",
    "X = tf.matrix_solve(A, B)\n",
    "\n",
    "with tf.Session() as session:\n",
    "    result = session.run(X)\n",
    "    D, E, F = result.flatten()\n",
    "\n",
    "    print(\"Equation: x**2 + y**2 + {D}x + {E}y + {F} = 0\".format(**locals()))"
   ]
  },
  {
   "cell_type": "code",
   "execution_count": null,
   "metadata": {},
   "outputs": [],
   "source": []
  }
 ],
 "metadata": {
  "kernelspec": {
   "display_name": "Python 3",
   "language": "python",
   "name": "python3"
  },
  "language_info": {
   "codemirror_mode": {
    "name": "ipython",
    "version": 3
   },
   "file_extension": ".py",
   "mimetype": "text/x-python",
   "name": "python",
   "nbconvert_exporter": "python",
   "pygments_lexer": "ipython3",
   "version": "3.6.7"
  }
 },
 "nbformat": 4,
 "nbformat_minor": 2
}
