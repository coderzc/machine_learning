{
 "cells": [
  {
   "cell_type": "markdown",
   "metadata": {},
   "source": [
    "### 梯度的调试 (如何知道自己的梯度公式是否正确）"
   ]
  },
  {
   "cell_type": "markdown",
   "metadata": {},
   "source": [
    " <img src=\"../img/8.png\" width=\"500\" align=\"left\"/>"
   ]
  },
  {
   "cell_type": "code",
   "execution_count": 1,
   "metadata": {},
   "outputs": [],
   "source": [
    "import numpy as np\n",
    "import matplotlib.pyplot as plt"
   ]
  },
  {
   "cell_type": "code",
   "execution_count": 2,
   "metadata": {},
   "outputs": [],
   "source": [
    "np.random.seed(666)\n",
    "X = np.random.random(size=(1000,10))"
   ]
  },
  {
   "cell_type": "code",
   "execution_count": 3,
   "metadata": {},
   "outputs": [],
   "source": [
    "true_W = np.arange(1,12,dtype=float)"
   ]
  },
  {
   "cell_type": "code",
   "execution_count": 8,
   "metadata": {},
   "outputs": [],
   "source": [
    "X_b = np.hstack([np.ones((len(X),1)), X])\n",
    "\n",
    "y = X_b.dot(true_W) + np.random.normal(size=1000)"
   ]
  },
  {
   "cell_type": "code",
   "execution_count": 9,
   "metadata": {},
   "outputs": [
    {
     "data": {
      "text/plain": [
       "(1000, 10)"
      ]
     },
     "execution_count": 9,
     "metadata": {},
     "output_type": "execute_result"
    },
    {
     "data": {
      "text/plain": [
       "(1000,)"
      ]
     },
     "execution_count": 9,
     "metadata": {},
     "output_type": "execute_result"
    }
   ],
   "source": [
    "X.shape\n",
    "y.shape"
   ]
  },
  {
   "cell_type": "code",
   "execution_count": 10,
   "metadata": {},
   "outputs": [
    {
     "data": {
      "text/plain": [
       "array([ 1.,  2.,  3.,  4.,  5.,  6.,  7.,  8.,  9., 10., 11.])"
      ]
     },
     "execution_count": 10,
     "metadata": {},
     "output_type": "execute_result"
    }
   ],
   "source": [
    "true_W"
   ]
  },
  {
   "cell_type": "code",
   "execution_count": 11,
   "metadata": {},
   "outputs": [],
   "source": [
    "def J(W,X_b,y):\n",
    "    try:\n",
    "        return np.mean((y-X_b.dot(W))**2)\n",
    "    except:\n",
    "        return float('inf')"
   ]
  },
  {
   "cell_type": "code",
   "execution_count": 12,
   "metadata": {},
   "outputs": [],
   "source": [
    "# 计算梯度\n",
    "def dJ_math(W,X_b,y):\n",
    "    return X_b.T.dot(X_b.dot(W) - y) * 2. / len(y)    "
   ]
  },
  {
   "cell_type": "code",
   "execution_count": 13,
   "metadata": {},
   "outputs": [],
   "source": [
    "def dJ_debug(W,X_b,y,epsilon=0.01):\n",
    "    res = np.empty(len(W))\n",
    "    for i in range(len(W)):\n",
    "        W_1 = W.copy()\n",
    "        W_1[i] += epsilon\n",
    "        W_2 = W.copy()\n",
    "        W_2[i] -= epsilon\n",
    "        \n",
    "        res[i] = (J(W_1,X_b,y)-J(W_2,X_b,y)) / (2 * epsilon)\n",
    "    return res"
   ]
  },
  {
   "cell_type": "code",
   "execution_count": 15,
   "metadata": {},
   "outputs": [],
   "source": [
    "# 梯度下降\n",
    "def gradient_descent_vector(dJ,init_w,X,y,eta=0.01,epsilon=1e-2,n_iters=1e4,init_b=0.):\n",
    "    \n",
    "    # 补1\n",
    "    X_b = np.hstack([np.ones((len(X),1)),X])\n",
    "    # 补b\n",
    "    W = np.hstack([init_b,init_w])\n",
    "    \n",
    "    i_iter=0\n",
    "    while i_iter<n_iters:\n",
    "        grad=dJ(W,X_b,y)\n",
    "        last_W=W\n",
    "        W=W-eta*grad\n",
    "        if(abs(J(W,X_b,y)-J(last_W,X_b,y)) < epsilon):\n",
    "            break\n",
    "        i_iter += 1    \n",
    "    return W"
   ]
  },
  {
   "cell_type": "code",
   "execution_count": 18,
   "metadata": {},
   "outputs": [
    {
     "name": "stdout",
     "output_type": "stream",
     "text": [
      "CPU times: user 340 ms, sys: 30.1 ms, total: 370 ms\n",
      "Wall time: 196 ms\n"
     ]
    },
    {
     "data": {
      "text/plain": [
       "array([8.26200061, 3.41547499, 3.50931419, 3.8359876 , 4.53870159,\n",
       "       4.88207109, 5.10522801, 5.7360655 , 6.11828751, 6.60422379,\n",
       "       7.06073814])"
      ]
     },
     "execution_count": 18,
     "metadata": {},
     "output_type": "execute_result"
    }
   ],
   "source": [
    "%time gradient_descent_vector(dJ_debug,np.zeros(X.shape[1]),X,y)"
   ]
  },
  {
   "cell_type": "code",
   "execution_count": 19,
   "metadata": {},
   "outputs": [
    {
     "name": "stdout",
     "output_type": "stream",
     "text": [
      "CPU times: user 46.8 ms, sys: 6.01 ms, total: 52.8 ms\n",
      "Wall time: 30.6 ms\n"
     ]
    },
    {
     "data": {
      "text/plain": [
       "array([8.26200061, 3.41547499, 3.50931419, 3.8359876 , 4.53870159,\n",
       "       4.88207109, 5.10522801, 5.7360655 , 6.11828751, 6.60422379,\n",
       "       7.06073814])"
      ]
     },
     "execution_count": 19,
     "metadata": {},
     "output_type": "execute_result"
    }
   ],
   "source": [
    "%time gradient_descent_vector(dJ_math,np.zeros(X.shape[1]),X,y)"
   ]
  },
  {
   "cell_type": "code",
   "execution_count": null,
   "metadata": {},
   "outputs": [],
   "source": []
  }
 ],
 "metadata": {
  "kernelspec": {
   "display_name": "Python 3",
   "language": "python",
   "name": "python3"
  },
  "language_info": {
   "codemirror_mode": {
    "name": "ipython",
    "version": 3
   },
   "file_extension": ".py",
   "mimetype": "text/x-python",
   "name": "python",
   "nbconvert_exporter": "python",
   "pygments_lexer": "ipython3",
   "version": "3.6.7"
  }
 },
 "nbformat": 4,
 "nbformat_minor": 2
}
