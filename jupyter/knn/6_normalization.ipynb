{
 "cells": [
  {
   "cell_type": "markdown",
   "metadata": {},
   "source": [
    "## 数据归一化"
   ]
  },
  {
   "cell_type": "markdown",
   "metadata": {},
   "source": [
    "数据归一化：将所有数据都映射到同一尺度上"
   ]
  },
  {
   "cell_type": "markdown",
   "metadata": {},
   "source": [
    " ***常用方法:***\n",
    "* 最值归一化(Normalization)：把所有数据都映射到0～1之间 \n",
    "\n",
    "    $x_{scale}=\\dfrac {x-x_{\\min }}{x_{\\max }-x_{\\min }}$\n",
    "\n",
    "    适用于分布有明显边界的情况；受outlier(异常值)影响较大\n",
    "    \n",
    "    <br/>\n",
    "* 0均值标准化(Z-score)：把所以数据归一到均值为0、标准差为1的分布中\n",
    "    \n",
    "    $ X_{scale}=\\dfrac {x-\\mu }{\\sigma } $ （$\\mu$为均值，$ \\sigma $为标准差）\n",
    "    \n",
    "    $ \\sigma= \\sqrt {\\dfrac {1}{n}\\sum ^{n}_{i=1}\\left( x_{i}-\\mu\\right) ^{2}} $\n",
    "    \n",
    "    适用于分布没有明显边界的情况；"
   ]
  },
  {
   "cell_type": "markdown",
   "metadata": {},
   "source": [
    "### 最值归一化 Normalization"
   ]
  },
  {
   "cell_type": "code",
   "execution_count": 1,
   "metadata": {},
   "outputs": [],
   "source": [
    "import numpy as np"
   ]
  },
  {
   "cell_type": "code",
   "execution_count": 2,
   "metadata": {},
   "outputs": [],
   "source": [
    "x=np.random.randint(0,100,size=100)"
   ]
  },
  {
   "cell_type": "code",
   "execution_count": 3,
   "metadata": {},
   "outputs": [
    {
     "data": {
      "text/plain": [
       "array([61, 34, 30, 88, 11, 86, 84, 36, 33, 34, 11,  9, 78, 44,  9, 40,  1,\n",
       "       42, 17, 41, 30, 53, 17, 99, 83, 10,  0, 44, 67, 66, 90, 88, 21, 25,\n",
       "       23, 98, 46, 17, 38, 78, 42,  2, 40, 94, 56, 25, 81, 90, 86, 20, 18,\n",
       "       28, 79, 67,  0, 96,  6, 61, 88, 99, 53, 74, 31, 52,  0, 25,  4, 71,\n",
       "       86, 23, 77, 38, 82, 71, 91, 29, 88, 43, 66, 50, 55, 49, 76, 57, 60,\n",
       "       39, 99, 73,  7, 90, 51, 19,  8, 29,  9, 81, 15, 49, 44, 92])"
      ]
     },
     "execution_count": 3,
     "metadata": {},
     "output_type": "execute_result"
    }
   ],
   "source": [
    "x"
   ]
  },
  {
   "cell_type": "code",
   "execution_count": 4,
   "metadata": {},
   "outputs": [
    {
     "data": {
      "text/plain": [
       "array([0.61616162, 0.34343434, 0.3030303 , 0.88888889, 0.11111111,\n",
       "       0.86868687, 0.84848485, 0.36363636, 0.33333333, 0.34343434,\n",
       "       0.11111111, 0.09090909, 0.78787879, 0.44444444, 0.09090909,\n",
       "       0.4040404 , 0.01010101, 0.42424242, 0.17171717, 0.41414141,\n",
       "       0.3030303 , 0.53535354, 0.17171717, 1.        , 0.83838384,\n",
       "       0.1010101 , 0.        , 0.44444444, 0.67676768, 0.66666667,\n",
       "       0.90909091, 0.88888889, 0.21212121, 0.25252525, 0.23232323,\n",
       "       0.98989899, 0.46464646, 0.17171717, 0.38383838, 0.78787879,\n",
       "       0.42424242, 0.02020202, 0.4040404 , 0.94949495, 0.56565657,\n",
       "       0.25252525, 0.81818182, 0.90909091, 0.86868687, 0.2020202 ,\n",
       "       0.18181818, 0.28282828, 0.7979798 , 0.67676768, 0.        ,\n",
       "       0.96969697, 0.06060606, 0.61616162, 0.88888889, 1.        ,\n",
       "       0.53535354, 0.74747475, 0.31313131, 0.52525253, 0.        ,\n",
       "       0.25252525, 0.04040404, 0.71717172, 0.86868687, 0.23232323,\n",
       "       0.77777778, 0.38383838, 0.82828283, 0.71717172, 0.91919192,\n",
       "       0.29292929, 0.88888889, 0.43434343, 0.66666667, 0.50505051,\n",
       "       0.55555556, 0.49494949, 0.76767677, 0.57575758, 0.60606061,\n",
       "       0.39393939, 1.        , 0.73737374, 0.07070707, 0.90909091,\n",
       "       0.51515152, 0.19191919, 0.08080808, 0.29292929, 0.09090909,\n",
       "       0.81818182, 0.15151515, 0.49494949, 0.44444444, 0.92929293])"
      ]
     },
     "execution_count": 4,
     "metadata": {},
     "output_type": "execute_result"
    }
   ],
   "source": [
    "(x - np.min(x))/(np.max(x)-np.min(x))"
   ]
  },
  {
   "cell_type": "markdown",
   "metadata": {},
   "source": [
    "##### 矩阵归一化"
   ]
  },
  {
   "cell_type": "code",
   "execution_count": 5,
   "metadata": {},
   "outputs": [],
   "source": [
    "X=np.random.randint(0,100,(50,2))"
   ]
  },
  {
   "cell_type": "code",
   "execution_count": 6,
   "metadata": {},
   "outputs": [],
   "source": [
    "X = np.array(X,dtype=float)"
   ]
  },
  {
   "cell_type": "code",
   "execution_count": 7,
   "metadata": {},
   "outputs": [],
   "source": [
    "for i in range(0,X.ndim):\n",
    "    X[:,i] = (X[:,i] - np.min(X[:,i])) / (np.max(X[:,i])-np.min(X[:,i]))"
   ]
  },
  {
   "cell_type": "code",
   "execution_count": 8,
   "metadata": {},
   "outputs": [
    {
     "data": {
      "text/plain": [
       "array([[0.16842105, 0.95698925],\n",
       "       [0.        , 0.67741935],\n",
       "       [0.64210526, 0.61290323],\n",
       "       [0.92631579, 0.2688172 ],\n",
       "       [1.        , 0.52688172],\n",
       "       [0.8       , 0.89247312],\n",
       "       [0.93684211, 0.        ],\n",
       "       [0.43157895, 0.47311828],\n",
       "       [0.89473684, 0.84946237],\n",
       "       [0.2       , 0.50537634]])"
      ]
     },
     "execution_count": 8,
     "metadata": {},
     "output_type": "execute_result"
    }
   ],
   "source": [
    "X[:10,:]"
   ]
  },
  {
   "cell_type": "code",
   "execution_count": 9,
   "metadata": {},
   "outputs": [],
   "source": [
    "import matplotlib.pyplot as plt"
   ]
  },
  {
   "cell_type": "code",
   "execution_count": 10,
   "metadata": {},
   "outputs": [
    {
     "data": {
      "image/png": "[encoded data removed]",
      "text/plain": [
       "<Figure size 432x288 with 1 Axes>"
      ]
     },
     "metadata": {
      "needs_background": "light"
     },
     "output_type": "display_data"
    }
   ],
   "source": [
    "plt.scatter(X[:,0],X[:,1])\n",
    "plt.show()"
   ]
  },
  {
   "cell_type": "code",
   "execution_count": 11,
   "metadata": {},
   "outputs": [
    {
     "data": {
      "text/plain": [
       "0.543578947368421"
      ]
     },
     "execution_count": 11,
     "metadata": {},
     "output_type": "execute_result"
    }
   ],
   "source": [
    "# 均值\n",
    "np.mean(X[:,0])"
   ]
  },
  {
   "cell_type": "code",
   "execution_count": 12,
   "metadata": {},
   "outputs": [
    {
     "data": {
      "text/plain": [
       "0.3199983379458222"
      ]
     },
     "execution_count": 12,
     "metadata": {},
     "output_type": "execute_result"
    }
   ],
   "source": [
    "# 标准差\n",
    "np.std(X[:,0])"
   ]
  },
  {
   "cell_type": "markdown",
   "metadata": {},
   "source": [
    "### 0均值标准化 Z-score"
   ]
  },
  {
   "cell_type": "code",
   "execution_count": 13,
   "metadata": {},
   "outputs": [],
   "source": [
    "X2 = np.random.randint(0,100,(50,2))\n",
    "X2=np.array(X,dtype=float)"
   ]
  },
  {
   "cell_type": "code",
   "execution_count": 14,
   "metadata": {},
   "outputs": [],
   "source": [
    "for i in range(0,X2.ndim):\n",
    "    X2[:,i] = (X2[:,i] - np.mean(X2[:,i])) / np.std(X2[:,i])"
   ]
  },
  {
   "cell_type": "code",
   "execution_count": 15,
   "metadata": {},
   "outputs": [
    {
     "data": {
      "image/png": "[encoded data removed]",
      "text/plain": [
       "<Figure size 432x288 with 1 Axes>"
      ]
     },
     "metadata": {
      "needs_background": "light"
     },
     "output_type": "display_data"
    }
   ],
   "source": [
    "plt.scatter(X2[:,0],X2[:,1])\n",
    "plt.show()"
   ]
  },
  {
   "cell_type": "code",
   "execution_count": 16,
   "metadata": {},
   "outputs": [
    {
     "data": {
      "text/plain": [
       "4.4408920985006264e-17"
      ]
     },
     "execution_count": 16,
     "metadata": {},
     "output_type": "execute_result"
    }
   ],
   "source": [
    "np.mean(X2[:,0])"
   ]
  },
  {
   "cell_type": "code",
   "execution_count": 17,
   "metadata": {},
   "outputs": [
    {
     "data": {
      "text/plain": [
       "1.0"
      ]
     },
     "execution_count": 17,
     "metadata": {},
     "output_type": "execute_result"
    }
   ],
   "source": [
    "np.std(X2[:,0])"
   ]
  },
  {
   "cell_type": "code",
   "execution_count": 18,
   "metadata": {},
   "outputs": [
    {
     "data": {
      "text/plain": [
       "-2.0095036745715334e-16"
      ]
     },
     "execution_count": 18,
     "metadata": {},
     "output_type": "execute_result"
    }
   ],
   "source": [
    "np.mean(X2[:,1])"
   ]
  },
  {
   "cell_type": "code",
   "execution_count": 19,
   "metadata": {},
   "outputs": [
    {
     "data": {
      "text/plain": [
       "1.0"
      ]
     },
     "execution_count": 19,
     "metadata": {},
     "output_type": "execute_result"
    }
   ],
   "source": [
    "np.std(X2[:,1])"
   ]
  },
  {
   "cell_type": "markdown",
   "metadata": {},
   "source": [
    "### 对测试数据集进行归一化"
   ]
  },
  {
   "cell_type": "markdown",
   "metadata": {},
   "source": [
    "***x_test = (x_test - mean_train) / mean_train***\n",
    "\n",
    "我们需要保存 mean_train、mean_train"
   ]
  },
  {
   "cell_type": "code",
   "execution_count": null,
   "metadata": {},
   "outputs": [],
   "source": []
  },
  {
   "cell_type": "markdown",
   "metadata": {},
   "source": [
    "### scikit-learn中的 Scaler"
   ]
  },
  {
   "cell_type": "code",
   "execution_count": 20,
   "metadata": {},
   "outputs": [],
   "source": [
    "from sklearn import datasets\n",
    "from sklearn.model_selection import train_test_split\n",
    "from sklearn.preprocessing import StandardScaler"
   ]
  },
  {
   "cell_type": "code",
   "execution_count": 21,
   "metadata": {},
   "outputs": [],
   "source": [
    "iris = datasets.load_iris()\n",
    "x=iris.data\n",
    "y=iris.target"
   ]
  },
  {
   "cell_type": "code",
   "execution_count": 22,
   "metadata": {},
   "outputs": [],
   "source": [
    "x_train,x_test,y_train,y_test=train_test_split(x,y,test_size=0.2,random_state=666)"
   ]
  },
  {
   "cell_type": "code",
   "execution_count": 23,
   "metadata": {},
   "outputs": [],
   "source": [
    "standardScaler = StandardScaler()"
   ]
  },
  {
   "cell_type": "code",
   "execution_count": 24,
   "metadata": {},
   "outputs": [
    {
     "data": {
      "text/plain": [
       "StandardScaler(copy=True, with_mean=True, with_std=True)"
      ]
     },
     "execution_count": 24,
     "metadata": {},
     "output_type": "execute_result"
    }
   ],
   "source": [
    "standardScaler.fit(x_train)"
   ]
  },
  {
   "cell_type": "code",
   "execution_count": 25,
   "metadata": {},
   "outputs": [
    {
     "data": {
      "text/plain": [
       "array([5.83416667, 3.08666667, 3.70833333, 1.17      ])"
      ]
     },
     "execution_count": 25,
     "metadata": {},
     "output_type": "execute_result"
    }
   ],
   "source": [
    "standardScaler.mean_"
   ]
  },
  {
   "cell_type": "code",
   "execution_count": 26,
   "metadata": {},
   "outputs": [
    {
     "data": {
      "text/plain": [
       "array([0.81019502, 0.44327067, 1.76401924, 0.75317107])"
      ]
     },
     "execution_count": 26,
     "metadata": {},
     "output_type": "execute_result"
    }
   ],
   "source": [
    "standardScaler.scale_"
   ]
  },
  {
   "cell_type": "code",
   "execution_count": 27,
   "metadata": {},
   "outputs": [],
   "source": [
    "x_train = standardScaler.transform(x_train)"
   ]
  },
  {
   "cell_type": "code",
   "execution_count": 28,
   "metadata": {},
   "outputs": [],
   "source": [
    "x_test = standardScaler.transform(x_test)"
   ]
  },
  {
   "cell_type": "code",
   "execution_count": 29,
   "metadata": {},
   "outputs": [],
   "source": [
    "from sklearn.neighbors import KNeighborsClassifier"
   ]
  },
  {
   "cell_type": "code",
   "execution_count": 30,
   "metadata": {},
   "outputs": [],
   "source": [
    "knn_clf = KNeighborsClassifier(n_neighbors=3)"
   ]
  },
  {
   "cell_type": "code",
   "execution_count": 31,
   "metadata": {},
   "outputs": [
    {
     "data": {
      "text/plain": [
       "KNeighborsClassifier(algorithm='auto', leaf_size=30, metric='minkowski',\n",
       "           metric_params=None, n_jobs=None, n_neighbors=3, p=2,\n",
       "           weights='uniform')"
      ]
     },
     "execution_count": 31,
     "metadata": {},
     "output_type": "execute_result"
    }
   ],
   "source": [
    "knn_clf.fit(x_train,y_train)"
   ]
  },
  {
   "cell_type": "code",
   "execution_count": 32,
   "metadata": {},
   "outputs": [
    {
     "data": {
      "text/plain": [
       "1.0"
      ]
     },
     "execution_count": 32,
     "metadata": {},
     "output_type": "execute_result"
    }
   ],
   "source": [
    "knn_clf.score(x_test,y_test)"
   ]
  },
  {
   "cell_type": "markdown",
   "metadata": {},
   "source": [
    "###  更多有关k近邻算法：\n",
    "**优点：**\n",
    "* 解决分类问题\n",
    "\n",
    "* 天然可以解决多分类问题\n",
    "\n",
    "* 思想简单 效果强大\n",
    "\n",
    "* 可以解决回归问题（预测具体的数值 股票价值 学生成绩分数）\n",
    "    \n",
    "    \n",
    "**缺点：**\n",
    "* 效率低下\n",
    "如果训练集有m个样本 n个特征 则预测每一个新的数据 需要O(m * n)\n",
    "优化，使用树结构：KD-Tree Ball-Tree\n",
    "\n",
    "* 高度数据相关 就是使用高度数据相关 对outliner比较敏感 可以让数据变错误\n",
    "\n",
    "* 预测结果不具有可解释性\n",
    "\n",
    "* 维数灾难：随着维数增加 看似相近的两个点之间的距离越来越大 (过拟合）\n",
    "\n",
    "    https://blog.csdn.net/ustbbsy/article/details/80961157\n",
    "   "
   ]
  },
  {
   "cell_type": "code",
   "execution_count": null,
   "metadata": {},
   "outputs": [],
   "source": []
  }
 ],
 "metadata": {
  "kernelspec": {
   "display_name": "Python 3",
   "language": "python",
   "name": "python3"
  },
  "language_info": {
   "codemirror_mode": {
    "name": "ipython",
    "version": 3
   },
   "file_extension": ".py",
   "mimetype": "text/x-python",
   "name": "python",
   "nbconvert_exporter": "python",
   "pygments_lexer": "ipython3",
   "version": "3.6.7"
  }
 },
 "nbformat": 4,
 "nbformat_minor": 2
}
